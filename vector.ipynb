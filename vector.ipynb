{
 "cells": [
  {
   "cell_type": "code",
   "execution_count": 1,
   "metadata": {},
   "outputs": [],
   "source": [
    "# !pip install chromadb\n",
    "# !pip install openai"
   ]
  },
  {
   "cell_type": "code",
   "execution_count": 3,
   "metadata": {},
   "outputs": [],
   "source": [
    "import os\n",
    "from dotenv import load_dotenv\n",
    "\n",
    "load_dotenv()\n",
    "\n",
    "OPENAI_API_KEY = os.getenv('OPENAI_API_KEY')"
   ]
  },
  {
   "cell_type": "code",
   "execution_count": 4,
   "metadata": {},
   "outputs": [],
   "source": [
    "import chromadb\n",
    "import json\n",
    "chroma_client = chromadb.Client()"
   ]
  },
  {
   "cell_type": "code",
   "execution_count": 5,
   "metadata": {},
   "outputs": [],
   "source": [
    "f = open(\"dbinfo.json\", \"r\")\n",
    "dbinfo = json.loads(f.read())\n",
    "\n",
    "f = open(\"dbrelationships.json\", \"r\")\n",
    "dbrelationships = json.loads(f.read())\n"
   ]
  },
  {
   "cell_type": "code",
   "execution_count": 6,
   "metadata": {},
   "outputs": [],
   "source": [
    "ids = []\n",
    "documents = []\n",
    "for table in dbinfo[\"tables\"]:\n",
    "    ids.append(table['name'])\n",
    "    documents.append(str(table))"
   ]
  },
  {
   "cell_type": "code",
   "execution_count": 7,
   "metadata": {},
   "outputs": [],
   "source": [
    "import chromadb.utils.embedding_functions as embedding_functions\n",
    "openai_ef = embedding_functions.OpenAIEmbeddingFunction(\n",
    "                api_key=OPENAI_API_KEY,\n",
    "                model_name=\"text-embedding-3-small\"\n",
    "            )\n",
    "collection = chroma_client.create_collection(name=\"my_collection\", embedding_function=openai_ef)"
   ]
  },
  {
   "cell_type": "code",
   "execution_count": 8,
   "metadata": {},
   "outputs": [],
   "source": [
    "collection.add(\n",
    "    documents=documents,\n",
    "    ids=ids\n",
    ")"
   ]
  },
  {
   "cell_type": "code",
   "execution_count": 30,
   "metadata": {},
   "outputs": [],
   "source": [
    "results = collection.query(\n",
    "    query_texts=[\"largest tables\"], # Chroma will embed this for you\n",
    "    n_results=2 # how many results to return\n",
    ")\n"
   ]
  },
  {
   "cell_type": "code",
   "execution_count": 31,
   "metadata": {},
   "outputs": [
    {
     "name": "stdout",
     "output_type": "stream",
     "text": [
      "['table_entity', 'database_entity']\n",
      "['{\\'name\\': \\'table_entity\\', \\'properties\\': {\\'description\\': \\'Stores metadata about different tables within the databases, including their unique identifiers, names, and associated JSON metadata. For all the queries related to tables this should be used.\\'}, \\'refSql\\': \\'select * from table_entity\\', \\'columns\\': [{\\'name\\': \\'id\\', \\'type\\': \\'VARCHAR(36)\\', \\'notNull\\': True, \\'expression\\': \\'table_id\\', \\'properties\\': {\\'description\\': \\'Unique identifier for the table entity.\\'}}, {\\'name\\': \\'name\\', \\'type\\': \\'VARCHAR(256)\\', \\'notNull\\': True, \\'expression\\': \\'table_name\\', \\'properties\\': {\\'description\\': \\'The name of the table, used to identify it within the system.\\'}}, {\\'name\\': \\'json\\', \\'type\\': \\'JSON\\', \\'notNull\\': True, \\'expression\\': \\'table_metadata\\', \\'properties\\': {\\'description\\': \\'JSON data containing all metadata related to the table entity.\\'}}, {\\'name\\': \\'updatedAt\\', \\'type\\': \\'BIGINT UNSIGNED\\', \\'notNull\\': True, \\'expression\\': \\'table_updated_at\\', \\'properties\\': {\\'description\\': \\'Timestamp of the last update to the table entity.\\'}}, {\\'name\\': \\'updatedBy\\', \\'type\\': \\'VARCHAR(256)\\', \\'notNull\\': True, \\'expression\\': \\'table_updated_by\\', \\'properties\\': {\\'description\\': \\'User who last updated the table entity.\\'}}, {\\'name\\': \\'deleted\\', \\'type\\': \\'TINYINT(1)\\', \\'notNull\\': False, \\'expression\\': \\'table_deleted\\', \\'properties\\': {\\'description\\': \\'Flag indicating whether the table entity is deleted.\\'}}, {\\'name\\': \\'fqnHash\\', \\'type\\': \\'VARCHAR(768)\\', \\'notNull\\': False, \\'expression\\': \\'table_fqn_hash\\', \\'properties\\': {\\'description\\': \"Hashed value of the table\\'s fully qualified name.\"}}], \\'primaryKey\\': \\'id\\'}', '{\\'name\\': \\'database_entity\\', \\'properties\\': {\\'description\\': \\'Stores metadata about different databases, including their unique identifiers and names.\\'}, \\'refSql\\': \\'select * from database_entity\\', \\'columns\\': [{\\'name\\': \\'id\\', \\'type\\': \\'VARCHAR(36)\\', \\'notNull\\': True, \\'expression\\': \\'database_id\\', \\'properties\\': {\\'description\\': \\'Unique identifier for the database entity.\\'}}, {\\'name\\': \\'name\\', \\'type\\': \\'VARCHAR(256)\\', \\'notNull\\': True, \\'expression\\': \\'database_name\\', \\'properties\\': {\\'description\\': \\'Name of the database.\\'}}, {\\'name\\': \\'json\\', \\'type\\': \\'JSON\\', \\'notNull\\': True, \\'expression\\': \\'database_metadata\\', \\'properties\\': {\\'description\\': \\'JSON metadata containing details about the database entity.\\'}}, {\\'name\\': \\'updatedAt\\', \\'type\\': \\'BIGINT UNSIGNED\\', \\'notNull\\': True, \\'expression\\': \\'database_updated_at\\', \\'properties\\': {\\'description\\': \\'Timestamp of the last update to the database entity.\\'}}, {\\'name\\': \\'updatedBy\\', \\'type\\': \\'VARCHAR(256)\\', \\'notNull\\': True, \\'expression\\': \\'database_updated_by\\', \\'properties\\': {\\'description\\': \\'User who last updated the database entity.\\'}}, {\\'name\\': \\'deleted\\', \\'type\\': \\'TINYINT(1)\\', \\'notNull\\': False, \\'expression\\': \\'database_deleted\\', \\'properties\\': {\\'description\\': \\'Flag indicating whether the database entity is deleted.\\'}}, {\\'name\\': \\'fqnHash\\', \\'type\\': \\'VARCHAR(768)\\', \\'notNull\\': False, \\'expression\\': \\'database_fqn_hash\\', \\'properties\\': {\\'description\\': \"Hashed value of the database\\'s fully qualified name.\"}}], \\'primaryKey\\': \\'id\\'}']\n"
     ]
    }
   ],
   "source": [
    "print(results['ids'][0])\n",
    "print(results['documents'][0])"
   ]
  },
  {
   "cell_type": "code",
   "execution_count": 32,
   "metadata": {},
   "outputs": [],
   "source": [
    "tables = results['ids'][0]\n"
   ]
  },
  {
   "cell_type": "code",
   "execution_count": 45,
   "metadata": {},
   "outputs": [
    {
     "data": {
      "text/plain": [
       "'table_entity,database_entity'"
      ]
     },
     "execution_count": 45,
     "metadata": {},
     "output_type": "execute_result"
    }
   ],
   "source": [
    "\",\".join(tables)"
   ]
  },
  {
   "cell_type": "code",
   "execution_count": 36,
   "metadata": {},
   "outputs": [],
   "source": [
    "\n",
    "def getRelationshipsForTables(tables):\n",
    "    allrelationships = dbrelationships['relationships']\n",
    "    relationships = []\n",
    "    for rel in allrelationships:\n",
    "        if (rel['fromTable'] in tables or rel['toTable'] in tables):\n",
    "            relationships.append(rel)\n",
    "    \n",
    "    return relationships\n"
   ]
  },
  {
   "cell_type": "code",
   "execution_count": 37,
   "metadata": {},
   "outputs": [],
   "source": [
    "relationships = getRelationshipsForTables(tables)"
   ]
  },
  {
   "cell_type": "code",
   "execution_count": 40,
   "metadata": {},
   "outputs": [
    {
     "name": "stdout",
     "output_type": "stream",
     "text": [
      "[{'fromTable': 'tag_usage', 'columns': ['targetFQNHash'], 'toTable': 'table_entity', 'relatedColumns': ['fqnHash'], 'relationshipType': 'many-to-one', 'description': 'Tags are used to classify and describe tables in the metadata system.'}, {'fromTable': 'table_entity', 'columns': ['fqnHash'], 'toTable': 'tag_usage', 'relatedColumns': ['targetFQNHash'], 'relationshipType': 'one-to-many', 'description': 'Tags are used to categorize and describe tables.'}, {'fromTable': 'test_case', 'columns': ['entityFQN'], 'toTable': 'table_entity', 'relatedColumns': ['fqnHash'], 'relationshipType': 'many-to-one', 'description': 'The entityFQN in test_case links to various metadata entities such as table_entity to specify what the test case is validating.'}, {'fromTable': 'test_definition', 'columns': ['entityType'], 'toTable': 'table_entity', 'relatedColumns': ['fqnHash'], 'relationshipType': 'many-to-one', 'description': 'The entityType in test_definition references different entity types indicating what kind of metadata entities the test applies to.'}, {'fromTable': 'dbservice_entity', 'columns': ['id'], 'toTable': 'database_entity', 'relatedColumns': ['id'], 'relationshipType': 'one-to-many', 'description': 'Each database service can manage multiple databases.'}, {'fromTable': 'dbservice_entity', 'columns': ['name'], 'toTable': 'database_entity', 'relatedColumns': ['name'], 'relationshipType': 'one-to-one', 'description': 'The service name in dbservice_entity is linked to the database it manages.'}, {'fromTable': 'metadata_service_entity', 'columns': ['id'], 'toTable': 'table_entity', 'relatedColumns': ['id'], 'relationshipType': 'one-to-many', 'description': 'Each metadata service can manage multiple tables.'}, {'fromTable': 'metadata_service_entity', 'columns': ['name'], 'toTable': 'table_entity', 'relatedColumns': ['name'], 'relationshipType': 'one-to-one', 'description': 'The service name in metadata_service_entity is linked to the tables it manages.'}, {'fromTable': 'entity_relationship', 'columns': ['fromId'], 'toTable': 'database_entity', 'relatedColumns': ['id'], 'relationshipType': 'many-to-one', 'description': 'A database entity can have relationships with other entities, such as tables or other databases.'}, {'fromTable': 'entity_relationship', 'columns': ['fromId'], 'toTable': 'table_entity', 'relatedColumns': ['id'], 'relationshipType': 'many-to-one', 'description': 'A table entity can have relationships with other tables, databases, or other related entities.'}, {'fromTable': 'entity_extension', 'columns': ['id'], 'toTable': 'database_entity', 'relatedColumns': ['id'], 'relationshipType': 'many-to-one', 'description': 'Allows extending the metadata of a database entity with additional attributes or information.'}, {'fromTable': 'entity_extension', 'columns': ['id'], 'toTable': 'table_entity', 'relatedColumns': ['id'], 'relationshipType': 'many-to-one', 'description': 'Allows extending the metadata of a table entity with additional attributes or information.'}, {'fromTable': 'entity_extension_time_series', 'columns': ['entityFQNHash'], 'toTable': 'table_entity', 'relatedColumns': ['fqnHash'], 'relationshipType': 'many-to-one', 'description': \"Tracks time-series data related to the extension of a table entity's metadata.\"}, {'fromTable': 'entity_extension_time_series', 'columns': ['entityFQNHash'], 'toTable': 'database_entity', 'relatedColumns': ['fqnHash'], 'relationshipType': 'many-to-one', 'description': \"Tracks time-series data related to the extension of a database entity's metadata.\"}, {'fromTable': 'database_entity', 'columns': ['id'], 'toTable': 'table_entity', 'relatedColumns': ['id'], 'relationshipType': 'one-to-many', 'description': 'A database entity can manage multiple table entities. Each table belongs to a specific database.'}, {'fromTable': 'database_entity', 'columns': ['id'], 'toTable': 'entity_relationship', 'relatedColumns': ['fromId'], 'relationshipType': 'many-to-one', 'description': 'Database entities can have relationships with other entities through the entity_relationship table.'}, {'fromTable': 'database_entity', 'columns': ['fqnHash'], 'toTable': 'entity_extension', 'relatedColumns': ['id'], 'relationshipType': 'many-to-one', 'description': 'Extends the metadata of a database entity with additional attributes or custom information.'}, {'fromTable': 'database_entity', 'columns': ['fqnHash'], 'toTable': 'entity_extension_time_series', 'relatedColumns': ['entityFQNHash'], 'relationshipType': 'many-to-one', 'description': \"Tracks time-series data related to the extension of a database entity's metadata.\"}, {'fromTable': 'table_entity', 'columns': ['id'], 'toTable': 'entity_relationship', 'relatedColumns': ['fromId'], 'relationshipType': 'many-to-one', 'description': 'Table entities can have relationships with other tables, databases, or related entities through the entity_relationship table.'}, {'fromTable': 'table_entity', 'columns': ['fqnHash'], 'toTable': 'entity_extension', 'relatedColumns': ['id'], 'relationshipType': 'many-to-one', 'description': 'Allows extending the metadata of a table entity with additional attributes or information.'}, {'fromTable': 'table_entity', 'columns': ['fqnHash'], 'toTable': 'entity_extension_time_series', 'relatedColumns': ['entityFQNHash'], 'relationshipType': 'many-to-one', 'description': \"Tracks time-series data related to the extension of a table entity's metadata.\"}]\n"
     ]
    }
   ],
   "source": [
    "print(relationships)"
   ]
  },
  {
   "cell_type": "code",
   "execution_count": null,
   "metadata": {},
   "outputs": [],
   "source": []
  }
 ],
 "metadata": {
  "kernelspec": {
   "display_name": "appgpt",
   "language": "python",
   "name": "python3"
  },
  "language_info": {
   "codemirror_mode": {
    "name": "ipython",
    "version": 3
   },
   "file_extension": ".py",
   "mimetype": "text/x-python",
   "name": "python",
   "nbconvert_exporter": "python",
   "pygments_lexer": "ipython3",
   "version": "3.12.4"
  }
 },
 "nbformat": 4,
 "nbformat_minor": 2
}
