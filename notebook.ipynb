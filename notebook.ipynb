{
 "cells": [
  {
   "cell_type": "code",
   "execution_count": 4,
   "metadata": {},
   "outputs": [],
   "source": [
    "# !pip install langgraph\n",
    "# !pip install aiosqlite \n",
    "# !pip install langchian"
   ]
  },
  {
   "cell_type": "code",
   "execution_count": 10,
   "metadata": {},
   "outputs": [],
   "source": [
    "from typing import TypedDict, Annotated\n",
    "from langchain_core.messages import AnyMessage\n",
    "from langgraph.graph.message import add_messages"
   ]
  },
  {
   "cell_type": "code",
   "execution_count": 11,
   "metadata": {},
   "outputs": [],
   "source": [
    "from langgraph.graph import StateGraph, START, END\n",
    "\n",
    "builder = StateGraph(dict)"
   ]
  },
  {
   "cell_type": "code",
   "execution_count": 12,
   "metadata": {},
   "outputs": [],
   "source": [
    "class State(TypedDict):\n",
    "    name: str\n",
    "    age: int\n",
    "    messages: Annotated[list[AnyMessage], add_messages]\n"
   ]
  },
  {
   "cell_type": "code",
   "execution_count": 13,
   "metadata": {},
   "outputs": [],
   "source": [
    "from langchain_core.runnables import RunnableConfig\n",
    "\n",
    "def generateRandomName(state: dict, config: RunnableConfig) -> State:\n",
    "    print(config)\n",
    "    return { \"name\": \"Vishal\", \"age\": 27}"
   ]
  },
  {
   "cell_type": "code",
   "execution_count": 14,
   "metadata": {},
   "outputs": [],
   "source": [
    "def actionNode(state: dict) -> State:\n",
    "    return state"
   ]
  },
  {
   "cell_type": "code",
   "execution_count": 15,
   "metadata": {},
   "outputs": [],
   "source": [
    "builder.add_node(\"entry\", generateRandomName)\n",
    "builder.add_node(\"action\", actionNode)"
   ]
  },
  {
   "cell_type": "code",
   "execution_count": 16,
   "metadata": {},
   "outputs": [],
   "source": [
    "builder.add_edge(START, \"entry\")\n",
    "builder.add_edge(\"entry\", \"action\")\n",
    "builder.add_edge(\"action\", END)"
   ]
  },
  {
   "cell_type": "code",
   "execution_count": 21,
   "metadata": {},
   "outputs": [],
   "source": [
    "import asyncio\n",
    "from langgraph.checkpoint.aiosqlite import AsyncSqliteSaver\n",
    "from langgraph.checkpoint.sqlite import SqliteSaver\n",
    "\n",
    "memory = AsyncSqliteSaver.from_conn_string(\":memory:\")\n",
    "memory = SqliteSaver.from_conn_string(\":memory:\")"
   ]
  },
  {
   "cell_type": "code",
   "execution_count": 22,
   "metadata": {},
   "outputs": [],
   "source": [
    "graph = builder.compile(checkpointer=memory)"
   ]
  },
  {
   "cell_type": "code",
   "execution_count": 23,
   "metadata": {},
   "outputs": [],
   "source": [
    "config = {\"configurable\": {\"thread_id\": \"1\"}}\n",
    "\n",
    "inputs = {\n",
    "    \"name\": \"Ram\",\n",
    "    \"age\": 12\n",
    "}"
   ]
  },
  {
   "cell_type": "code",
   "execution_count": 25,
   "metadata": {},
   "outputs": [
    {
     "name": "stdout",
     "output_type": "stream",
     "text": [
      "{'tags': [], 'metadata': {'thread_id': '1', 'langgraph_step': 1, 'langgraph_node': 'entry', 'langgraph_triggers': ['start:entry'], 'langgraph_task_idx': 0, 'thread_ts': '1ef51cfb-f940-62ec-8000-6ad5a2ccf43d'}, 'callbacks': <langchain_core.callbacks.manager.CallbackManager object at 0x10c851040>, 'configurable': {'thread_id': '1-entry', '__pregel_send': functools.partial(<function local_write at 0x10c6e18a0>, <built-in method extend of collections.deque object at 0x129717100>, {'__start__': PregelNode(config={'tags': ['langsmith:hidden'], 'metadata': {}, 'configurable': {}}, channels=['__start__'], triggers=['__start__'], writers=[ChannelWrite<__root__>(recurse=True, writes=[ChannelWriteEntry(channel='__root__', value=<object object at 0x105f16160>, skip_none=True, mapper=None)], require_at_least_one_of=['__root__']), ChannelWrite<start:entry>(recurse=True, writes=[ChannelWriteEntry(channel='start:entry', value='__start__', skip_none=False, mapper=None)], require_at_least_one_of=None)]), 'entry': PregelNode(config={'tags': [], 'metadata': {}, 'configurable': {}}, channels=['__root__'], triggers=['start:entry'], writers=[ChannelWrite<entry,__root__>(recurse=True, writes=[ChannelWriteEntry(channel='entry', value='entry', skip_none=False, mapper=None), ChannelWriteEntry(channel='__root__', value=<object object at 0x105f16160>, skip_none=True, mapper=None)], require_at_least_one_of=['__root__'])]), 'action': PregelNode(config={'tags': [], 'metadata': {}, 'configurable': {}}, channels=['__root__'], triggers=['entry'], writers=[ChannelWrite<action,__root__>(recurse=True, writes=[ChannelWriteEntry(channel='action', value='action', skip_none=False, mapper=None), ChannelWriteEntry(channel='__root__', value=<object object at 0x105f16160>, skip_none=True, mapper=None)], require_at_least_one_of=['__root__'])])}, {'__root__': <langgraph.channels.last_value.LastValue object at 0x10c8edd00>, '__start__': <langgraph.channels.ephemeral_value.EphemeralValue object at 0x10c86f710>, 'entry': <langgraph.channels.ephemeral_value.EphemeralValue object at 0x10c86d8e0>, 'action': <langgraph.channels.ephemeral_value.EphemeralValue object at 0x10c86e9f0>, 'start:entry': <langgraph.channels.ephemeral_value.EphemeralValue object at 0x10c86cf50>}), '__pregel_read': functools.partial(<function local_read at 0x10c6e1800>, {'v': 1, 'ts': '2024-08-03T19:36:58.600308+00:00', 'id': '1ef51cfb-f940-62ec-8000-6ad5a2ccf43d', 'channel_values': {'__root__': {'name': 'Ram', 'age': 12}, 'start:entry': '__start__'}, 'channel_versions': {'__start__': '00000000000000000000000000000002.', '__root__': '00000000000000000000000000000002.a65caa577b3c55e85add3d8e03765134', 'start:entry': '00000000000000000000000000000002.d6f25946c3108fc12f27abbcf9b4cedc'}, 'versions_seen': {'__input__': {}, '__start__': {'__start__': '00000000000000000000000000000001.a65caa577b3c55e85add3d8e03765134'}}, 'pending_sends': [], 'current_tasks': {}}, {'__root__': <langgraph.channels.last_value.LastValue object at 0x10c8edd00>, '__start__': <langgraph.channels.ephemeral_value.EphemeralValue object at 0x10c86f710>, 'entry': <langgraph.channels.ephemeral_value.EphemeralValue object at 0x10c86d8e0>, 'action': <langgraph.channels.ephemeral_value.EphemeralValue object at 0x10c86e9f0>, 'start:entry': <langgraph.channels.ephemeral_value.EphemeralValue object at 0x10c86cf50>}, PregelTaskWrites(name='entry', writes=deque([]), triggers=['start:entry']), {'tags': [], 'metadata': {'thread_id': '1'}, 'callbacks': None, 'recursion_limit': 25, 'configurable': {'thread_id': '1'}}), '__pregel_checkpointer': <langgraph.checkpoint.sqlite.SqliteSaver object at 0x10c8e8410>, '__pregel_resuming': False, 'thread_ts': '1ef51cfb-f940-62ec-8000-6ad5a2ccf43d'}}\n"
     ]
    },
    {
     "data": {
      "text/plain": [
       "{'name': 'Vishal', 'age': 27}"
      ]
     },
     "execution_count": 25,
     "metadata": {},
     "output_type": "execute_result"
    }
   ],
   "source": [
    "graph.invoke(input=inputs, config=config)"
   ]
  },
  {
   "cell_type": "code",
   "execution_count": null,
   "metadata": {},
   "outputs": [],
   "source": []
  }
 ],
 "metadata": {
  "kernelspec": {
   "display_name": "appgpt",
   "language": "python",
   "name": "python3"
  },
  "language_info": {
   "codemirror_mode": {
    "name": "ipython",
    "version": 3
   },
   "file_extension": ".py",
   "mimetype": "text/x-python",
   "name": "python",
   "nbconvert_exporter": "python",
   "pygments_lexer": "ipython3",
   "version": "3.12.4"
  }
 },
 "nbformat": 4,
 "nbformat_minor": 2
}
